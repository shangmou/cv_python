{
 "cells": [
  {
   "cell_type": "markdown",
   "metadata": {},
   "source": [
    "#  canny 边缘检测\n",
    "\n",
    "  ---使用高斯滤波器，以平滑图像滤除噪声\n",
    "  \n",
    "  ---计算图像中每个像素点的梯度强度和方向\n",
    "  \n",
    "  ---应用非极大值抑制，消除边缘检测带来的杂散响应\n",
    "  \n",
    "  ---应用双阈值检测来确定真实的和潜在的边缘\n",
    "  \n",
    "  ---通过抑制孤立的弱边缘最终完成边缘检测"
   ]
  },
  {
   "cell_type": "markdown",
   "metadata": {},
   "source": [
    "# 1： 高斯滤波\n",
    "\n",
    "--中间点大，里的越远越小"
   ]
  },
  {
   "cell_type": "markdown",
   "metadata": {},
   "source": [
    "![canny_1.png](canny_1.png)"
   ]
  },
  {
   "cell_type": "markdown",
   "metadata": {},
   "source": [
    "#  2: 梯度和方向\n",
    "\n",
    "--sobels算子"
   ]
  },
  {
   "cell_type": "markdown",
   "metadata": {},
   "source": [
    "# ![canny_2.png](canny_2.png)"
   ]
  },
  {
   "cell_type": "markdown",
   "metadata": {},
   "source": [
    "#  3： 非极大值抑制"
   ]
  },
  {
   "cell_type": "markdown",
   "metadata": {},
   "source": [
    "# ![canny_3.png](canny_3.png)"
   ]
  },
  {
   "cell_type": "markdown",
   "metadata": {},
   "source": [
    "# ![canny_4.png](canny_4.png)"
   ]
  },
  {
   "cell_type": "markdown",
   "metadata": {},
   "source": [
    "#  4: 双阈值检测"
   ]
  },
  {
   "cell_type": "markdown",
   "metadata": {},
   "source": [
    "# ![canny_5.png](canny_5.png)"
   ]
  },
  {
   "cell_type": "code",
   "execution_count": 2,
   "metadata": {},
   "outputs": [],
   "source": [
    "import tensorflow as tf \n",
    "import matplotlib.pyplot as plt\n",
    "import numpy as np\n",
    "import cv2\n"
   ]
  },
  {
   "cell_type": "code",
   "execution_count": 11,
   "metadata": {
    "collapsed": true
   },
   "outputs": [],
   "source": [
    "def cv_show(img,name):\n",
    "    \n",
    "    cv2.namedWindow(name,0)\n",
    "    cv2.imshow(name,img)\n",
    "    cv2.waitKey()\n",
    "    cv2.destroyAllWindows()"
   ]
  },
  {
   "cell_type": "code",
   "execution_count": 12,
   "metadata": {},
   "outputs": [],
   "source": [
    "img = cv2.imread('03.jpg',cv2.IMREAD_GRAYSCALE)\n",
    "v1 = cv2.Canny(img,80,150) #--inval   --xval\n",
    "v2 = cv2.Canny(img,130,250)\n",
    "\n",
    "res = np.hstack((v1,v2))\n",
    "cv_show(res,'res')"
   ]
  },
  {
   "cell_type": "code",
   "execution_count": 13,
   "metadata": {},
   "outputs": [],
   "source": [
    "img = cv2.imread('320.png',cv2.IMREAD_GRAYSCALE)\n",
    "v1 = cv2.Canny(img,80,150) #--inval   --xval\n",
    "v2 = cv2.Canny(img,130,180)\n",
    "\n",
    "res = np.hstack((v1,v2))\n",
    "cv_show(res,'res')"
   ]
  },
  {
   "cell_type": "code",
   "execution_count": null,
   "metadata": {
    "collapsed": true
   },
   "outputs": [],
   "source": []
  }
 ],
 "metadata": {
  "kernelspec": {
   "display_name": "Python 3",
   "language": "python",
   "name": "python3"
  }
 },
 "nbformat": 4,
 "nbformat_minor": 2
}
